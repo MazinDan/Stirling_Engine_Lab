{
 "cells": [
  {
   "cell_type": "code",
   "execution_count": null,
   "metadata": {},
   "outputs": [],
   "source": [
    "import pandas as pd\n",
    "import numpy as np\n",
    "import matplotlib.pyplot as plt\n",
    "from scipy.integrate import simps  # For numerical integration\n",
    "\n",
    "# Load data\n",
    "data_path = '/mnt/data/4-5-5DataSlowDCDriven.csv'  # Path to your data file\n",
    "data = pd.read_csv(data_path)\n",
    "\n",
    "# Convert temperatures to Kelvin if needed (assuming they are in Celsius)\n",
    "data['Temperature 1'] += 273.15\n",
    "data['Temperature 2'] += 273.15\n",
    "\n",
    "# Plot Pressure-Volume (PV) diagram\n",
    "plt.figure(figsize=(10, 6))\n",
    "plt.plot(data['Volume'], data['Pressure'], marker='o')\n",
    "plt.title('Pressure-Volume Diagram')\n",
    "plt.xlabel('Volume (cc)')\n",
    "plt.ylabel('Pressure (kPa)')\n",
    "plt.grid(True)\n",
    "plt.show()\n",
    "\n",
    "# Calculate work done using the trapezoidal rule for numerical integration\n",
    "# Assuming data represents one complete cycle and is in order\n",
    "work = simps(data['Pressure'], data['Volume'])\n",
    "print(f\"Net work done in the cycle: {work} Joules\")\n",
    "\n",
    "# Identify the segment for isothermal expansion by finding the highest stable temperature\n",
    "max_temp = data['Temperature 1'].max()\n",
    "isothermal_segment = data[data['Temperature 1'] == max_temp]\n",
    "if not isothermal_segment.empty:\n",
    "    V_i = isothermal_segment['Volume'].iloc[0]\n",
    "    V_f = isothermal_segment['Volume'].iloc[-1]\n",
    "    T_iso = isothermal_segment['Temperature 1'].iloc[0]\n",
    "    P_iso = isothermal_segment['Pressure'].iloc[0]\n",
    "    # Estimate the number of moles (assuming ideal gas)\n",
    "    R = 8.314  # J/(mol·K)\n",
    "    n = P_iso * V_i / (R * T_iso)  # PV = nRT\n",
    "    # Calculate Qh for the isothermal expansion\n",
    "    Qh = n * R * T_iso * np.log(V_f / V_i)\n",
    "    print(f\"Heat added during isothermal expansion (Qh): {Qh} Joules\")\n",
    "else:\n",
    "    print(\"No clear isothermal expansion phase detected. Check data or adjust temperature threshold.\")\n"
   ]
  }
 ],
 "metadata": {
  "language_info": {
   "name": "python"
  }
 },
 "nbformat": 4,
 "nbformat_minor": 2
}
